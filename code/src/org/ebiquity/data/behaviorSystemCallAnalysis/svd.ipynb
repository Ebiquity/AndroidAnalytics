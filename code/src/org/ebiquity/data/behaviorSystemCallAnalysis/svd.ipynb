{
 "cells": [
  {
   "cell_type": "code",
   "execution_count": null,
   "metadata": {
    "collapsed": false
   },
   "outputs": [],
   "source": [
    "import json\n",
    "from sklearn.decomposition import TruncatedSVD\n",
    "from sklearn.random_projection import sparse_random_matrix\n",
    "from sklearn.feature_extraction.text import TfidfVectorizer\n",
    "from sklearn.model_selection import train_test_split\n",
    "\n",
    "testRatio = 0.25\n",
    "\n",
    "corpus = json.loads(open(\"corpus.json\",\"r\").read())\n",
    "labelList = list(set(corpus[\"my\"]))\n",
    "X_train, X_test, y_train, y_test = \\\n",
    "    train_test_split(corpus[\"corpus\"], corpus[\"my\"], test_size=testRatio, random_state=42)\n",
    "\n",
    "vectorizer=TfidfVectorizer(min_df=1,ngram_range=(1,3),analyzer='word')\n",
    "X_train=vectorizer.fit_transform(X_train)\n",
    "X_test=vectorizer.transform(X_test)\n",
    "\n",
    "print X_train, X_test\n",
    "\n",
    "# print X_train.shape\n",
    "# svd = TruncatedSVD(n_components=5, n_iter=7, random_state=42)\n",
    "# svd.fit(X) \n",
    "# TruncatedSVD(algorithm='randomized', n_components=5, n_iter=7, random_state=42, tol=0.0)\n",
    "# print(svd.explained_variance_ratio_) \n",
    "# print(svd.explained_variance_ratio_.sum()) \n",
    "# print X"
   ]
  },
  {
   "cell_type": "code",
   "execution_count": null,
   "metadata": {
    "collapsed": true
   },
   "outputs": [],
   "source": []
  }
 ],
 "metadata": {
  "kernelspec": {
   "display_name": "Python [Root]",
   "language": "python",
   "name": "Python [Root]"
  },
  "language_info": {
   "codemirror_mode": {
    "name": "ipython",
    "version": 2
   },
   "file_extension": ".py",
   "mimetype": "text/x-python",
   "name": "python",
   "nbconvert_exporter": "python",
   "pygments_lexer": "ipython2",
   "version": "2.7.12"
  }
 },
 "nbformat": 4,
 "nbformat_minor": 2
}
